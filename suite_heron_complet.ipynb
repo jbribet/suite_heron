{
 "cells": [
  {
   "cell_type": "markdown",
   "metadata": {},
   "source": [
    "# Suite de Héron\n"
   ]
  },
  {
   "cell_type": "markdown",
   "metadata": {},
   "source": [
    "On va tout d'abord définir une fonction `heron(n)` qui prend un entier $n$ comme paramètre et qui retourne le $n$-ième terme de la suite de Héron."
   ]
  },
  {
   "cell_type": "code",
   "execution_count": null,
   "metadata": {},
   "outputs": [],
   "source": [
    "def heron(n) :\n",
    "    u = 2\n",
    "    for i in range(n-1) :\n",
    "        u = u/2+1/u\n",
    "    return u"
   ]
  },
  {
   "cell_type": "markdown",
   "metadata": {},
   "source": [
    "On peut donc calculer, par exemple, le $5^e$ terme soit $u_4$."
   ]
  },
  {
   "cell_type": "code",
   "execution_count": null,
   "metadata": {},
   "outputs": [],
   "source": [
    "heron(5)"
   ]
  },
  {
   "cell_type": "markdown",
   "metadata": {},
   "source": [
    "On peut comparer cette valeur à celle obtenue en utilisant la fonction `sqrt`  de Python :"
   ]
  },
  {
   "cell_type": "code",
   "execution_count": null,
   "metadata": {},
   "outputs": [],
   "source": [
    "from math import sqrt\n",
    "sqrt(2)"
   ]
  },
  {
   "cell_type": "markdown",
   "metadata": {},
   "source": [
    "On a vu dans l'exercice traité en classe que les termes de la suite de Héron étaient rationnel. On pourrait donc écrire une fonction `heron_frac(n)` qui affiche  une fraction de nombres entiers correspondant au $n$-ème terme de la suite."
   ]
  },
  {
   "cell_type": "code",
   "execution_count": null,
   "metadata": {},
   "outputs": [],
   "source": [
    "def heron_frac(n) :\n",
    "    a, b = 2, 1\n",
    "    for i in range(n-1) :\n",
    "        a, b = a**2+2*b*b, 2*a*b\n",
    "    print(f\"{a}/{b}\")"
   ]
  },
  {
   "cell_type": "markdown",
   "metadata": {},
   "source": [
    "On peut donc afficher $u_4$ sous forme de fraction de nombres entiers :"
   ]
  },
  {
   "cell_type": "code",
   "execution_count": null,
   "metadata": {},
   "outputs": [],
   "source": [
    "heron_frac(5)"
   ]
  },
  {
   "cell_type": "markdown",
   "metadata": {},
   "source": [
    "On constate aue la fraction n'est pas irréductible. Pour la simplifier, il faudrait à chaque étape, déterminer le pgcd du numérateur et dénominateur puis simplifier la fraction. Ceux qui suivent l'enseignement de spécialité maths verront un algorithme pour déterminer le pgcd et pourront donc améliorer la fonction  `heron_frac(n)`"
   ]
  },
  {
   "cell_type": "code",
   "execution_count": null,
   "metadata": {},
   "outputs": [],
   "source": []
  }
 ],
 "metadata": {
  "kernelspec": {
   "display_name": "Python 3",
   "language": "python",
   "name": "python3"
  },
  "language_info": {
   "codemirror_mode": {
    "name": "ipython",
    "version": 3
   },
   "file_extension": ".py",
   "mimetype": "text/x-python",
   "name": "python",
   "nbconvert_exporter": "python",
   "pygments_lexer": "ipython3",
   "version": "3.6.5"
  }
 },
 "nbformat": 4,
 "nbformat_minor": 2
}
